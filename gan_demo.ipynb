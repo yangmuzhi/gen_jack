{
 "cells": [
  {
   "cell_type": "code",
   "execution_count": 1,
   "metadata": {},
   "outputs": [
    {
     "name": "stdout",
     "output_type": "stream",
     "text": [
      "WARNING:tensorflow:From /Users/muzhi/Desktop/jackspot/gan/utils.py:18: The name tf.placeholder is deprecated. Please use tf.compat.v1.placeholder instead.\n",
      "\n",
      "WARNING:tensorflow:From /Users/muzhi/Desktop/jackspot/gan/utils.py:21: The name tf.get_variable_scope is deprecated. Please use tf.compat.v1.get_variable_scope instead.\n",
      "\n",
      "WARNING:tensorflow:From /Users/muzhi/Desktop/jackspot/gan/utils.py:65: dense (from tensorflow.python.layers.core) is deprecated and will be removed in a future version.\n",
      "Instructions for updating:\n",
      "Use keras.layers.Dense instead.\n",
      "WARNING:tensorflow:From /usr/local/anaconda3/envs/py36/lib/python3.6/site-packages/tensorflow_core/python/layers/core.py:187: Layer.apply (from tensorflow.python.keras.engine.base_layer) is deprecated and will be removed in a future version.\n",
      "Instructions for updating:\n",
      "Please use `layer.__call__` method instead.\n",
      "WARNING:tensorflow:From /Users/muzhi/Desktop/jackspot/gan/utils.py:32: The name tf.variable_scope is deprecated. Please use tf.compat.v1.variable_scope instead.\n",
      "\n",
      "WARNING:tensorflow:From /Users/muzhi/Desktop/jackspot/gan/utils.py:40: where (from tensorflow.python.ops.array_ops) is deprecated and will be removed in a future version.\n",
      "Instructions for updating:\n",
      "Use tf.where in 2.0, which has the same broadcast rule as np.where\n",
      "WARNING:tensorflow:From /Users/muzhi/Desktop/jackspot/gan/utils.py:42: The name tf.log is deprecated. Please use tf.math.log instead.\n",
      "\n",
      "WARNING:tensorflow:From /Users/muzhi/Desktop/jackspot/gan/utils.py:50: The name tf.train.RMSPropOptimizer is deprecated. Please use tf.compat.v1.train.RMSPropOptimizer instead.\n",
      "\n",
      "WARNING:tensorflow:From /usr/local/anaconda3/envs/py36/lib/python3.6/site-packages/tensorflow_core/python/training/rmsprop.py:119: calling Ones.__init__ (from tensorflow.python.ops.init_ops) with dtype is deprecated and will be removed in a future version.\n",
      "Instructions for updating:\n",
      "Call initializer instance with the dtype argument instead of passing it to the constructor\n",
      "WARNING:tensorflow:From /Users/muzhi/Desktop/jackspot/gan/base.py:15: The name tf.set_random_seed is deprecated. Please use tf.compat.v1.set_random_seed instead.\n",
      "\n",
      "WARNING:tensorflow:From /Users/muzhi/Desktop/jackspot/gan/base.py:23: The name tf.train.Saver is deprecated. Please use tf.compat.v1.train.Saver instead.\n",
      "\n",
      "WARNING:tensorflow:From /Users/muzhi/Desktop/jackspot/gan/base.py:26: The name tf.ConfigProto is deprecated. Please use tf.compat.v1.ConfigProto instead.\n",
      "\n",
      "WARNING:tensorflow:From /Users/muzhi/Desktop/jackspot/gan/base.py:28: The name tf.Session is deprecated. Please use tf.compat.v1.Session instead.\n",
      "\n",
      "WARNING:tensorflow:From /Users/muzhi/Desktop/jackspot/gan/base.py:31: The name tf.global_variables_initializer is deprecated. Please use tf.compat.v1.global_variables_initializer instead.\n",
      "\n",
      "## New start!\n"
     ]
    }
   ],
   "source": [
    "from gan.utils import GAN, realjack_generator, fake_z_generator\n",
    "import numpy as np\n",
    "import tqdm\n",
    "import matplotlib.pyplot as plt\n",
    "import pickle \n",
    "gan = GAN(\"models/\")\n"
   ]
  },
  {
   "cell_type": "code",
   "execution_count": 2,
   "metadata": {
    "collapsed": true
   },
   "outputs": [],
   "source": [
    "n_sample = 100000\n",
    "red = np.random.randint(1, 34, [n_sample, 6])\n",
    "blue = np.random.randint(1, 17, [n_sample, 1])\n",
    "jack = np.concatenate([red, blue], axis=1)\n",
    "jack.sort(axis=1)\n",
    "# z = np.random.randn(n_sample, 7)\n",
    "dlosses = []\n",
    "glosses = []"
   ]
  },
  {
   "cell_type": "code",
   "execution_count": 3,
   "metadata": {},
   "outputs": [
    {
     "name": "stderr",
     "output_type": "stream",
     "text": [
      "100%|██████████| 100/100 [00:00<00:00, 247.37it/s]\n"
     ]
    }
   ],
   "source": [
    "# pretrain\n",
    "e = tqdm.tqdm(range(100))\n",
    "\n",
    "gen = realjack_generator(jack, 32)\n",
    "for i in e:\n",
    "    real_jack = next(gen)\n",
    "    z = fake_z_generator(16, 7)\n",
    "    _, dloss = gan.train_disc(real_jack, z)\n",
    "    for i in range(2):\n",
    "        _, gloss = gan.train_gen(z)\n",
    "        dlosses.append(dloss)\n",
    "    glosses.append(gloss)"
   ]
  },
  {
   "cell_type": "code",
   "execution_count": 4,
   "metadata": {
    "collapsed": true
   },
   "outputs": [],
   "source": [
    "with open(\"data/data1.pkl\", \"rb\") as f:\n",
    "    jack = pickle.load(f)"
   ]
  },
  {
   "cell_type": "code",
   "execution_count": 5,
   "metadata": {},
   "outputs": [
    {
     "name": "stderr",
     "output_type": "stream",
     "text": [
      "100%|██████████| 100/100 [00:00<00:00, 696.06it/s]\n"
     ]
    }
   ],
   "source": [
    "e = tqdm.tqdm(range(100))\n",
    "\n",
    "gen = realjack_generator(jack, 32)\n",
    "for i in e:\n",
    "    real_jack = next(gen)\n",
    "    z = fake_z_generator(16, 7)\n",
    "    _, dloss = gan.train_disc(real_jack, z)\n",
    "    for i in range(2):\n",
    "        _, gloss = gan.train_gen(z)\n",
    "        dlosses.append(dloss)\n",
    "    glosses.append(gloss)"
   ]
  },
  {
   "cell_type": "code",
   "execution_count": 6,
   "metadata": {},
   "outputs": [
    {
     "data": {
      "image/png": "[encoded data removed]",
      "text/plain": [
       "<Figure size 432x288 with 1 Axes>"
      ]
     },
     "metadata": {},
     "output_type": "display_data"
    }
   ],
   "source": [
    "plt.plot(np.array(dlosses))\n",
    "plt.show()"
   ]
  },
  {
   "cell_type": "code",
   "execution_count": 7,
   "metadata": {},
   "outputs": [
    {
     "data": {
      "image/png": "[encoded data removed]",
      "text/plain": [
       "<Figure size 432x288 with 1 Axes>"
      ]
     },
     "metadata": {},
     "output_type": "display_data"
    }
   ],
   "source": [
    "plt.plot(np.array(glosses))\n",
    "plt.show()"
   ]
  },
  {
   "cell_type": "code",
   "execution_count": 8,
   "metadata": {},
   "outputs": [
    {
     "name": "stdout",
     "output_type": "stream",
     "text": [
      "[[0.9339857 ]\n",
      " [0.9760356 ]\n",
      " [0.9311882 ]\n",
      " ...\n",
      " [0.98165953]\n",
      " [0.91564333]\n",
      " [0.96008694]] [[ 5.9852943   7.3204436   5.768082   13.74176     7.7104774  10.576763\n",
      "   2.9881    ]\n",
      " [16.325516   14.615357   11.82429     1.947031   22.617752   15.12841\n",
      "  10.340695  ]\n",
      " [ 9.017855   15.581573   10.484458   17.168251   11.425255   14.49393\n",
      "   9.335309  ]\n",
      " [10.218265   15.741615    6.444827    4.6098185   4.1230183  17.862566\n",
      "   9.283267  ]\n",
      " [21.207407   14.132064    7.506995    8.1600485   7.4267364  19.714214\n",
      "   3.7356956 ]\n",
      " [17.292997    9.140621    7.421241    9.133192    9.828145   14.944866\n",
      "   0.12944455]\n",
      " [17.095396    8.068655   29.77667    18.213692   32.098507   17.096188\n",
      "  11.985702  ]\n",
      " [14.657283   17.946873   19.333565   10.376104   16.892017   12.95857\n",
      "   3.0480328 ]\n",
      " [17.017023   18.019827   14.14622    17.33867     1.1670535  10.142691\n",
      "   6.25686   ]\n",
      " [ 6.3467674   6.4499702   7.969901   10.433996    9.51802    17.183653\n",
      "   7.9931307 ]\n",
      " [12.2088175   4.344725    9.0079155  16.053413   10.5209675  15.592688\n",
      "  16.132078  ]\n",
      " [22.192776   18.317833   16.800938    3.392645   27.554071    9.258502\n",
      "   4.892322  ]\n",
      " [ 5.530275   13.725357   -0.75098497 10.918246   13.036708   13.854005\n",
      "   4.7993855 ]\n",
      " [17.24782    10.055157   11.431478   16.933847   12.291717   21.393778\n",
      "  15.78772   ]\n",
      " [15.115484    7.6179433  20.859318   22.30342    14.034625   10.957092\n",
      "  12.224365  ]\n",
      " [19.862974    4.440985   11.634776   10.657392   21.013842    6.5090737\n",
      "   8.885996  ]] [[0.6581615 ]\n",
      " [0.7448118 ]\n",
      " [0.7447785 ]\n",
      " [0.66378486]\n",
      " [0.6218399 ]\n",
      " [0.53722525]\n",
      " [0.88790405]\n",
      " [0.7237374 ]\n",
      " [0.68260586]\n",
      " [0.8452511 ]\n",
      " [0.9011297 ]\n",
      " [0.59135807]\n",
      " [0.6411118 ]\n",
      " [0.87493134]\n",
      " [0.5168819 ]\n",
      " [0.6873515 ]]\n"
     ]
    }
   ],
   "source": [
    "fake_jack = gan.get_jack(z)\n",
    "print(gan.get_prob(jack), gan.get_jack(z), gan.get_prob(fake_jack))"
   ]
  },
  {
   "cell_type": "code",
   "execution_count": 24,
   "metadata": {},
   "outputs": [
    {
     "data": {
      "text/plain": [
       "array([[ 6.,  7.,  6., 14.,  8., 11.,  3.],\n",
       "       [16., 15., 12.,  2., 23., 15., 10.],\n",
       "       [ 9., 16., 10., 17., 11., 14.,  9.],\n",
       "       [10., 16.,  6.,  5.,  4., 18.,  9.],\n",
       "       [21., 14.,  8.,  8.,  7., 20.,  4.],\n",
       "       [17.,  9.,  7.,  9., 10., 15.,  0.],\n",
       "       [17.,  8., 30., 18., 32., 17., 12.],\n",
       "       [15., 18., 19., 10., 17., 13.,  3.],\n",
       "       [17., 18., 14., 17.,  1., 10.,  6.],\n",
       "       [ 6.,  6.,  8., 10., 10., 17.,  8.],\n",
       "       [12.,  4.,  9., 16., 11., 16., 16.],\n",
       "       [22., 18., 17.,  3., 28.,  9.,  5.],\n",
       "       [ 6., 14., -1., 11., 13., 14.,  5.],\n",
       "       [17., 10., 11., 17., 12., 21., 16.],\n",
       "       [15.,  8., 21., 22., 14., 11., 12.],\n",
       "       [20.,  4., 12., 11., 21.,  7.,  9.]], dtype=float32)"
      ]
     },
     "execution_count": 24,
     "metadata": {},
     "output_type": "execute_result"
    }
   ],
   "source": [
    "np.round(fake_jack)"
   ]
  },
  {
   "cell_type": "code",
   "execution_count": 180,
   "metadata": {},
   "outputs": [],
   "source": [
    "n = 100\n",
    "z = fake_z_generator(n, 7)\n",
    "fake_jack = gan.get_jack(z)\n",
    "res_jack = []\n",
    "for i in range(fake_jack.shape[0]):\n",
    "    if np.unique(np.round(fake_jack[i, 0:6])).shape[0]>=5 and ((fake_jack[i, 0:7])>=1).all():\n",
    "        prob = gan.get_prob(fake_jack[i,:].reshape(-1,7)).reshape(-1,)\n",
    "        res_jack.append(np.concatenate([np.round(fake_jack[i,:]).astype(np.int), prob]))\n"
   ]
  },
  {
   "cell_type": "code",
   "execution_count": 182,
   "metadata": {},
   "outputs": [
    {
     "name": "stdout",
     "output_type": "stream",
     "text": [
      "[[16.          8.         20.         10.         21.         25.\n",
      "  16.          0.94568628]\n",
      " [34.         32.         28.          4.         15.          3.\n",
      "   3.          0.92167467]\n",
      " [ 6.         13.         19.         18.         25.         23.\n",
      "  14.          0.94715285]\n",
      " [21.         12.         16.          9.         20.         25.\n",
      "  18.          0.90815181]\n",
      " [13.         18.         12.         22.         27.         20.\n",
      "  19.          0.95989239]\n",
      " [23.         19.         25.         16.         32.         26.\n",
      "  15.          0.91307521]\n",
      " [ 8.         14.         25.          6.         28.         20.\n",
      "   4.          0.90111178]\n",
      " [ 8.         16.         15.         26.         22.         20.\n",
      "  14.          0.92297393]\n",
      " [11.         12.         29.         18.         24.         23.\n",
      "  15.          0.91047215]\n",
      " [11.         15.         20.          6.         34.         28.\n",
      "  19.          0.95293862]\n",
      " [ 9.          4.         14.         13.         19.         20.\n",
      "   7.          0.90975946]]\n"
     ]
    }
   ],
   "source": [
    "print(np.array(res_jack)[np.array(res_jack)[:,7]>=0.9])"
   ]
  },
  {
   "cell_type": "code",
   "execution_count": 172,
   "metadata": {},
   "outputs": [
    {
     "data": {
      "text/plain": [
       "array([0.90021425, 0.65221834, 0.77182448, 0.78669554, 0.71331197,\n",
       "       0.62081492, 0.89086503, 0.72562587, 0.79142159, 0.74694341,\n",
       "       0.55782437, 0.83553606, 0.74078989, 0.65908468, 0.76183945,\n",
       "       0.62835419, 0.84614652, 0.68166292, 0.63669419, 0.66334593,\n",
       "       0.69489425, 0.60577458, 0.63291246, 0.69392717, 0.84235913,\n",
       "       0.7251246 , 0.62549555, 0.58777344, 0.58052838, 0.68767101,\n",
       "       0.82523501, 0.83446968, 0.70717257, 0.57982767, 0.60517603,\n",
       "       0.72547549, 0.76438218, 0.80249447, 0.85387141, 0.70701051,\n",
       "       0.7992543 , 0.83523655, 0.67874026, 0.75480747, 0.90029311,\n",
       "       0.67139298, 0.76416564, 0.68724608, 0.44151568, 0.6640681 ,\n",
       "       0.76803255, 0.70419174, 0.51651299, 0.67819357, 0.80427796,\n",
       "       0.83352488, 0.70768213, 0.83418721, 0.74307185, 0.60518438,\n",
       "       0.83619052, 0.82001209, 0.90180951, 0.8200779 , 0.6769892 ,\n",
       "       0.90862894])"
      ]
     },
     "execution_count": 172,
     "metadata": {},
     "output_type": "execute_result"
    }
   ],
   "source": []
  },
  {
   "cell_type": "code",
   "execution_count": 20,
   "metadata": {},
   "outputs": [],
   "source": [
    "import tensorflow as tf"
   ]
  },
  {
   "cell_type": "code",
   "execution_count": 21,
   "metadata": {},
   "outputs": [
    {
     "data": {
      "text/plain": [
       "<function tensorflow.python.ops.math_ops.round>"
      ]
     },
     "execution_count": 21,
     "metadata": {},
     "output_type": "execute_result"
    }
   ],
   "source": [
    "tf.round"
   ]
  },
  {
   "cell_type": "code",
   "execution_count": null,
   "metadata": {
    "collapsed": true
   },
   "outputs": [],
   "source": []
  }
 ],
 "metadata": {
  "kernelspec": {
   "display_name": "Python [conda env:py36]",
   "language": "python",
   "name": "conda-env-py36-py"
  },
  "language_info": {
   "codemirror_mode": {
    "name": "ipython",
    "version": 3
   },
   "file_extension": ".py",
   "mimetype": "text/x-python",
   "name": "python",
   "nbconvert_exporter": "python",
   "pygments_lexer": "ipython3",
   "version": "3.6.2"
  }
 },
 "nbformat": 4,
 "nbformat_minor": 2
}
